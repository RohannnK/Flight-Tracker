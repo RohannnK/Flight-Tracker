{
 "cells": [
  {
   "cell_type": "markdown",
   "id": "2c111050",
   "metadata": {},
   "source": []
  },
  {
   "cell_type": "code",
   "execution_count": null,
   "id": "916767b2",
   "metadata": {},
   "outputs": [],
   "source": [
    "from my_module.functions import fetch_real_time_flights\n",
    "\n",
    "api_key = '1b72576d264f229fe85c9a9f8ddda862'  #This is a public and free API key so it's safe to be shared\n",
    "flights = fetch_real_time_flights(api_key)\n",
    "for flight in flights:\n",
    "    print(flight)  # This will use the __str__ method of the Flight class\n"
   ]
  },
  {
   "cell_type": "code",
   "execution_count": null,
   "id": "5c17bfa5",
   "metadata": {},
   "outputs": [],
   "source": [
    "flights = fetch_real_time_flights('1b72576d264f229fe85c9a9f8ddda862')\n",
    "for flight in flights:\n",
    "    print(flight)\n"
   ]
  }
 ],
 "metadata": {
  "kernelspec": {
   "display_name": "Python 3 (ipykernel)",
   "language": "python",
   "name": "python3"
  },
  "language_info": {
   "codemirror_mode": {
    "name": "ipython",
    "version": 3
   },
   "file_extension": ".py",
   "mimetype": "text/x-python",
   "name": "python",
   "nbconvert_exporter": "python",
   "pygments_lexer": "ipython3",
   "version": "3.9.12"
  }
 },
 "nbformat": 4,
 "nbformat_minor": 5
}
