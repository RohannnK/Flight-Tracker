{
 "cells": [
  {
   "cell_type": "markdown",
   "id": "d9c64845",
   "metadata": {},
   "source": [
    "# Flight Tracker Project"
   ]
  },
  {
   "cell_type": "markdown",
   "id": "ab3b7f80",
   "metadata": {},
   "source": [
    "## Introduction"
   ]
  },
  {
   "cell_type": "markdown",
   "id": "370d420c",
   "metadata": {},
   "source": [
    "This project is a Flight Tracker that uses an API (https://aviationstack.com/) to handle requests and get data. The idea is that a user can check live-flight data from around the world. This flight data only encompasses public planes, so you can't track flights taken using private jets, even if they are operating out of public airports."
   ]
  },
  {
   "cell_type": "markdown",
   "id": "7d0ca9d5",
   "metadata": {},
   "source": [
    "## Details"
   ]
  },
  {
   "cell_type": "markdown",
   "id": "9115ddf5",
   "metadata": {},
   "source": [
    "### This is a list of information that is available using this flight tracker\n",
    "   1. Flight Number\n",
    "   2. Airline\n",
    "   3. Departure Airport\n",
    "   4. Arrival Airport\n",
    "   5. Departure Code\n",
    "   6. Arrival Code"
   ]
  },
  {
   "cell_type": "markdown",
   "id": "4500f551",
   "metadata": {},
   "source": [
    "## Usage"
   ]
  },
  {
   "cell_type": "markdown",
   "id": "3dc98b5a",
   "metadata": {},
   "source": [
    "#### Importing Necessary Files, etc."
   ]
  },
  {
   "cell_type": "code",
   "execution_count": 1,
   "id": "e125c5fa",
   "metadata": {},
   "outputs": [],
   "source": [
    "# Importing necessary modules\n",
    "from my_module.functions import fetch_real_time_flights, process_flight_data\n",
    "\n",
    "from my_module.classes import Flight"
   ]
  },
  {
   "cell_type": "code",
   "execution_count": 2,
   "id": "e9888661",
   "metadata": {},
   "outputs": [
    {
     "ename": "AttributeError",
     "evalue": "'NoneType' object has no attribute 'get'",
     "output_type": "error",
     "traceback": [
      "\u001b[0;31m---------------------------------------------------------------------------\u001b[0m",
      "\u001b[0;31mAttributeError\u001b[0m                            Traceback (most recent call last)",
      "Input \u001b[0;32mIn [2]\u001b[0m, in \u001b[0;36m<cell line: 4>\u001b[0;34m()\u001b[0m\n\u001b[1;32m      1\u001b[0m \u001b[38;5;66;03m# Fetching real-time flight data\u001b[39;00m\n\u001b[1;32m      2\u001b[0m api_key \u001b[38;5;241m=\u001b[39m \u001b[38;5;124m\"\u001b[39m\u001b[38;5;124m1b72576d264f229fe85c9a9f8ddda862\u001b[39m\u001b[38;5;124m\"\u001b[39m \u001b[38;5;66;03m#This is a public free API key, it's okay to show, no security risks\u001b[39;00m\n\u001b[0;32m----> 4\u001b[0m flights_data \u001b[38;5;241m=\u001b[39m \u001b[43mfetch_real_time_flights\u001b[49m\u001b[43m(\u001b[49m\u001b[43mapi_key\u001b[49m\u001b[43m)\u001b[49m\n\u001b[1;32m      5\u001b[0m \u001b[38;5;28mprint\u001b[39m(flights_data)\n",
      "File \u001b[0;32m~/Documents/GitHub/Flight-Tracker/my_module/functions.py:33\u001b[0m, in \u001b[0;36mfetch_real_time_flights\u001b[0;34m(api_key, limit, offset)\u001b[0m\n\u001b[1;32m     30\u001b[0m flights_in_air \u001b[38;5;241m=\u001b[39m []\n\u001b[1;32m     32\u001b[0m \u001b[38;5;28;01mfor\u001b[39;00m flight \u001b[38;5;129;01min\u001b[39;00m api_response\u001b[38;5;241m.\u001b[39mget(\u001b[38;5;124m'\u001b[39m\u001b[38;5;124mdata\u001b[39m\u001b[38;5;124m'\u001b[39m, []):\n\u001b[0;32m---> 33\u001b[0m     \u001b[38;5;28;01mif\u001b[39;00m \u001b[38;5;129;01mnot\u001b[39;00m \u001b[43mflight\u001b[49m\u001b[38;5;241;43m.\u001b[39;49m\u001b[43mget\u001b[49m\u001b[43m(\u001b[49m\u001b[38;5;124;43m'\u001b[39;49m\u001b[38;5;124;43mlive\u001b[39;49m\u001b[38;5;124;43m'\u001b[39;49m\u001b[43m,\u001b[49m\u001b[43m \u001b[49m\u001b[43m{\u001b[49m\u001b[43m}\u001b[49m\u001b[43m)\u001b[49m\u001b[38;5;241;43m.\u001b[39;49m\u001b[43mget\u001b[49m(\u001b[38;5;124m'\u001b[39m\u001b[38;5;124mis_ground\u001b[39m\u001b[38;5;124m'\u001b[39m, \u001b[38;5;28;01mTrue\u001b[39;00m):\n\u001b[1;32m     34\u001b[0m         flight_info \u001b[38;5;241m=\u001b[39m {\n\u001b[1;32m     35\u001b[0m             \u001b[38;5;124m'\u001b[39m\u001b[38;5;124mairline\u001b[39m\u001b[38;5;124m'\u001b[39m: flight\u001b[38;5;241m.\u001b[39mget(\u001b[38;5;124m'\u001b[39m\u001b[38;5;124mairline\u001b[39m\u001b[38;5;124m'\u001b[39m, {})\u001b[38;5;241m.\u001b[39mget(\u001b[38;5;124m'\u001b[39m\u001b[38;5;124mname\u001b[39m\u001b[38;5;124m'\u001b[39m),\n\u001b[1;32m     36\u001b[0m             \u001b[38;5;124m'\u001b[39m\u001b[38;5;124mflight_number\u001b[39m\u001b[38;5;124m'\u001b[39m: flight\u001b[38;5;241m.\u001b[39mget(\u001b[38;5;124m'\u001b[39m\u001b[38;5;124mflight\u001b[39m\u001b[38;5;124m'\u001b[39m, {})\u001b[38;5;241m.\u001b[39mget(\u001b[38;5;124m'\u001b[39m\u001b[38;5;124miata\u001b[39m\u001b[38;5;124m'\u001b[39m),\n\u001b[0;32m   (...)\u001b[0m\n\u001b[1;32m     40\u001b[0m             \u001b[38;5;124m'\u001b[39m\u001b[38;5;124marrival_iata\u001b[39m\u001b[38;5;124m'\u001b[39m: flight\u001b[38;5;241m.\u001b[39mget(\u001b[38;5;124m'\u001b[39m\u001b[38;5;124marrival\u001b[39m\u001b[38;5;124m'\u001b[39m, {})\u001b[38;5;241m.\u001b[39mget(\u001b[38;5;124m'\u001b[39m\u001b[38;5;124miata\u001b[39m\u001b[38;5;124m'\u001b[39m)\n\u001b[1;32m     41\u001b[0m         }\n\u001b[1;32m     42\u001b[0m         flights_in_air\u001b[38;5;241m.\u001b[39mappend(flight_info)\n",
      "\u001b[0;31mAttributeError\u001b[0m: 'NoneType' object has no attribute 'get'"
     ]
    }
   ],
   "source": [
    "# Fetching real-time flight data\n",
    "api_key = \"1b72576d264f229fe85c9a9f8ddda862\" #This is a public free API key, it's okay to show, no security risks\n",
    "\n",
    "flights_data = fetch_real_time_flights(api_key)\n",
    "print(flights_data)"
   ]
  },
  {
   "cell_type": "code",
   "execution_count": null,
   "id": "5be1ed42",
   "metadata": {},
   "outputs": [],
   "source": [
    "# Processing the flight data\n",
    "print(\"Data passed to process_flight_data:\", flights_data)\n",
    "processed_flights = process_flight_data(flights_data)\n",
    "print(processed_flights)"
   ]
  },
  {
   "cell_type": "code",
   "execution_count": null,
   "id": "9d1fbbba",
   "metadata": {},
   "outputs": [],
   "source": []
  }
 ],
 "metadata": {
  "kernelspec": {
   "display_name": "Python 3 (ipykernel)",
   "language": "python",
   "name": "python3"
  },
  "language_info": {
   "codemirror_mode": {
    "name": "ipython",
    "version": 3
   },
   "file_extension": ".py",
   "mimetype": "text/x-python",
   "name": "python",
   "nbconvert_exporter": "python",
   "pygments_lexer": "ipython3",
   "version": "3.9.12"
  }
 },
 "nbformat": 4,
 "nbformat_minor": 5
}
