{
 "cells": [
  {
   "cell_type": "markdown",
   "id": "e882dc13",
   "metadata": {},
   "source": [
    "# Flight Tracker Project"
   ]
  },
  {
   "cell_type": "markdown",
   "id": "c8c2ba0a",
   "metadata": {},
   "source": [
    "## Introduction"
   ]
  },
  {
   "cell_type": "markdown",
   "id": "1a20f176",
   "metadata": {},
   "source": [
    "This project is a Flight Tracker that uses an API (https://aviationstack.com/) to handle requests and get data. The idea is that a user can check live-flight data from around the world. This flight data only encompasses public planes, so you can't track flights taken using private jets, even if they are operating out of public airports."
   ]
  },
  {
   "cell_type": "markdown",
   "id": "50016790",
   "metadata": {},
   "source": [
    "## Details"
   ]
  },
  {
   "cell_type": "markdown",
   "id": "4640d32e",
   "metadata": {},
   "source": [
    "### This is a list of information that is available using this flight tracker\n",
    "   1. "
   ]
  },
  {
   "cell_type": "code",
   "execution_count": null,
   "id": "f42af09f",
   "metadata": {},
   "outputs": [],
   "source": [
    "from my_module.functions import fetch_real_time_flights\n",
    "\n",
    "api_key = '1b72576d264f229fe85c9a9f8ddda862'  #This is a public and free API key so it's safe to be shared\n",
    "flights = fetch_real_time_flights(api_key)\n",
    "for flight in flights:\n",
    "    print(flight)  # This will use the __str__ method of the Flight class\n"
   ]
  },
  {
   "cell_type": "code",
   "execution_count": null,
   "id": "96938bd8",
   "metadata": {},
   "outputs": [],
   "source": [
    "flights = fetch_real_time_flights('1b72576d264f229fe85c9a9f8ddda862')\n",
    "for flight in flights:\n",
    "    print(flight)\n"
   ]
  }
 ],
 "metadata": {
  "kernelspec": {
   "display_name": "Python 3 (ipykernel)",
   "language": "python",
   "name": "python3"
  },
  "language_info": {
   "codemirror_mode": {
    "name": "ipython",
    "version": 3
   },
   "file_extension": ".py",
   "mimetype": "text/x-python",
   "name": "python",
   "nbconvert_exporter": "python",
   "pygments_lexer": "ipython3",
   "version": "3.9.12"
  }
 },
 "nbformat": 4,
 "nbformat_minor": 5
}
