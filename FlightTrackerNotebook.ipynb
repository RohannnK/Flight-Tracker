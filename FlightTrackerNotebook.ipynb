{
 "cells": [
  {
   "cell_type": "markdown",
   "id": "d9c64845",
   "metadata": {},
   "source": [
    "# Flight Tracker Project"
   ]
  },
  {
   "cell_type": "markdown",
   "id": "ab3b7f80",
   "metadata": {},
   "source": [
    "## Introduction"
   ]
  },
  {
   "cell_type": "markdown",
   "id": "370d420c",
   "metadata": {},
   "source": [
    "This project is a Flight Tracker that uses an API (https://aviationstack.com/) to handle requests and get data. The idea is that a user can check live-flight data from around the world. This flight data only encompasses public planes, so you can't track flights taken using private jets, even if they are operating out of public airports."
   ]
  },
  {
   "cell_type": "markdown",
   "id": "7d0ca9d5",
   "metadata": {},
   "source": [
    "## Details"
   ]
  },
  {
   "cell_type": "markdown",
   "id": "9115ddf5",
   "metadata": {},
   "source": [
    "### This is a list of information that is available using this flight tracker\n",
    "   1. Flight Number\n",
    "   2. Airline\n",
    "   3. Departure Airport\n",
    "   4. Arrival Airport\n",
    "   5. Departure Code\n",
    "   6. Arrival Code"
   ]
  },
  {
   "cell_type": "markdown",
   "id": "4500f551",
   "metadata": {},
   "source": [
    "## Usage"
   ]
  },
  {
   "cell_type": "markdown",
   "id": "3dc98b5a",
   "metadata": {},
   "source": [
    "#### Importing Necessary Files, etc."
   ]
  },
  {
   "cell_type": "code",
   "execution_count": 1,
   "id": "e125c5fa",
   "metadata": {},
   "outputs": [],
   "source": [
    "# Importing necessary modules\n",
    "from my_module.functions import fetch_real_time_flights, process_flight_data\n",
    "\n",
    "from my_module.classes import Flight"
   ]
  },
  {
   "cell_type": "code",
   "execution_count": 2,
   "id": "e9888661",
   "metadata": {},
   "outputs": [
    {
     "name": "stdout",
     "output_type": "stream",
     "text": [
      "{'error': {'code': 'https_access_restricted', 'message': 'Access Restricted - Your current Subscription Plan does not support HTTPS Encryption.'}}\n",
      "[]\n"
     ]
    }
   ],
   "source": [
    "# Fetching real-time flight data\\\n",
    "api_key = \"1b72576d264f229fe85c9a9f8ddda862\" #This is a public free API key, it's okay to show, no security risks\n",
    "\n",
    "flights_data = fetch_real_time_flights(api_key)\n",
    "print(flights_data)"
   ]
  },
  {
   "cell_type": "code",
   "execution_count": 3,
   "id": "5be1ed42",
   "metadata": {},
   "outputs": [
    {
     "name": "stdout",
     "output_type": "stream",
     "text": [
      "[]\n"
     ]
    }
   ],
   "source": [
    "# Processing the flight data\n",
    "processed_flights = process_flight_data(flights_data)\n",
    "print(processed_flights)"
   ]
  },
  {
   "cell_type": "code",
   "execution_count": null,
   "id": "b1813674",
   "metadata": {},
   "outputs": [],
   "source": []
  }
 ],
 "metadata": {
  "kernelspec": {
   "display_name": "Python 3 (ipykernel)",
   "language": "python",
   "name": "python3"
  },
  "language_info": {
   "codemirror_mode": {
    "name": "ipython",
    "version": 3
   },
   "file_extension": ".py",
   "mimetype": "text/x-python",
   "name": "python",
   "nbconvert_exporter": "python",
   "pygments_lexer": "ipython3",
   "version": "3.9.12"
  }
 },
 "nbformat": 4,
 "nbformat_minor": 5
}
